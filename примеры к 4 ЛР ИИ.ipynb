{
 "cells": [
  {
   "cell_type": "code",
   "execution_count": 3,
   "id": "60de9cc4-06c4-4ce8-b3f3-c6584a378a0b",
   "metadata": {},
   "outputs": [
    {
     "name": "stdout",
     "output_type": "stream",
     "text": [
      "Requirement already satisfied: pandas in c:\\users\\hesko\\anaconda3\\lib\\site-packages (2.2.2)\n",
      "Requirement already satisfied: numpy>=1.26.0 in c:\\users\\hesko\\anaconda3\\lib\\site-packages (from pandas) (1.26.4)\n",
      "Requirement already satisfied: python-dateutil>=2.8.2 in c:\\users\\hesko\\anaconda3\\lib\\site-packages (from pandas) (2.9.0.post0)\n",
      "Requirement already satisfied: pytz>=2020.1 in c:\\users\\hesko\\anaconda3\\lib\\site-packages (from pandas) (2024.1)\n",
      "Requirement already satisfied: tzdata>=2022.7 in c:\\users\\hesko\\anaconda3\\lib\\site-packages (from pandas) (2023.3)\n",
      "Requirement already satisfied: six>=1.5 in c:\\users\\hesko\\anaconda3\\lib\\site-packages (from python-dateutil>=2.8.2->pandas) (1.16.0)\n"
     ]
    }
   ],
   "source": [
    "!pip install pandas"
   ]
  },
  {
   "cell_type": "code",
   "execution_count": 6,
   "id": "eb3f5fd9-db96-46f2-bbfb-cc5e81fbddd4",
   "metadata": {},
   "outputs": [],
   "source": [
    "import pandas as pd"
   ]
  },
  {
   "cell_type": "code",
   "execution_count": 15,
   "id": "d4c2edb3-bf31-43b3-a575-13965af7956d",
   "metadata": {},
   "outputs": [
    {
     "name": "stdout",
     "output_type": "stream",
     "text": [
      "2.2.2\n"
     ]
    }
   ],
   "source": [
    "import pandas as pd\n",
    "print(pd.__version__)"
   ]
  },
  {
   "cell_type": "code",
   "execution_count": 17,
   "id": "b9b7eb1c-0799-415b-b729-e3061d119500",
   "metadata": {},
   "outputs": [],
   "source": [
    "In [1]: import numpy as np\n",
    "In [2]: import pandas as pd"
   ]
  },
  {
   "cell_type": "code",
   "execution_count": 19,
   "id": "b4fadc51-b7d3-4329-a0cd-a2032c6704a9",
   "metadata": {},
   "outputs": [
    {
     "name": "stdout",
     "output_type": "stream",
     "text": [
      "0    1\n",
      "1    2\n",
      "2    3\n",
      "3    4\n",
      "4    5\n",
      "dtype: int64\n"
     ]
    }
   ],
   "source": [
    "In [3]: s1 = pd.Series([1, 2, 3, 4, 5])\n",
    "In [4]: print(s1)"
   ]
  },
  {
   "cell_type": "code",
   "execution_count": 21,
   "id": "d389a2ac-8869-460c-adf6-aaa2f0b21d98",
   "metadata": {},
   "outputs": [
    {
     "name": "stdout",
     "output_type": "stream",
     "text": [
      "a    1\n",
      "b    2\n",
      "c    3\n",
      "d    4\n",
      "e    5\n",
      "dtype: int64\n"
     ]
    }
   ],
   "source": [
    "In [5]: s2 = pd.Series([1, 2, 3, 4, 5], ['a', 'b', 'c', 'd', 'e'])\n",
    "In [6]: print(s2)"
   ]
  },
  {
   "cell_type": "code",
   "execution_count": 27,
   "id": "757ad590-32cb-4e38-918b-c07fae92c021",
   "metadata": {},
   "outputs": [],
   "source": [
    "import numpy as np\n",
    "In [3]: ndarr = np.array([1, 2, 3, 4, 5])\n",
    "In [4]: type(ndarr)\n",
    "Out[4]: np.ndarray"
   ]
  },
  {
   "cell_type": "code",
   "execution_count": 29,
   "id": "425392b8-0931-42e9-98e8-087fae4a1857",
   "metadata": {},
   "outputs": [
    {
     "name": "stdout",
     "output_type": "stream",
     "text": [
      "a    1\n",
      "b    2\n",
      "c    3\n",
      "d    4\n",
      "e    5\n",
      "dtype: int32\n"
     ]
    }
   ],
   "source": [
    "In [5]: s3 = pd.Series(ndarr, ['a', 'b', 'c', 'd', 'e'])\n",
    "In [6]: print(s3)"
   ]
  },
  {
   "cell_type": "code",
   "execution_count": 31,
   "id": "7255a2ce-c665-476c-abb0-245382678f42",
   "metadata": {},
   "outputs": [
    {
     "name": "stdout",
     "output_type": "stream",
     "text": [
      "a    1\n",
      "b    2\n",
      "c    3\n",
      "dtype: int64\n"
     ]
    }
   ],
   "source": [
    "In [7]: d = {'a':1, 'b':2, 'c':3}\n",
    "In [8]: s4 = pd.Series(d)\n",
    "In [9]: print(s4)"
   ]
  },
  {
   "cell_type": "code",
   "execution_count": 33,
   "id": "6c3ab93c-427e-496f-8763-fc2b95785cda",
   "metadata": {},
   "outputs": [
    {
     "name": "stdout",
     "output_type": "stream",
     "text": [
      "a    7\n",
      "b    7\n",
      "c    7\n",
      "dtype: int64\n"
     ]
    }
   ],
   "source": [
    "In [10]: a = 7\n",
    "In [11]: s5 = pd.Series(a, ['a', 'b', 'c'])\n",
    "In [12]: print(s5)"
   ]
  },
  {
   "cell_type": "code",
   "execution_count": 39,
   "id": "ce201eda-73b4-4f3a-a12e-41a4157b0d2f",
   "metadata": {},
   "outputs": [],
   "source": [
    "In [13]: s6 = pd.Series([1, 2, 3, 4, 5], ['a', 'b', 'c', 'd', 'e'])\n",
    "In [14]: s6.iloc[2]\n",
    "Out[14]: 3"
   ]
  },
  {
   "cell_type": "code",
   "execution_count": 37,
   "id": "476019ef-3dee-4ae4-9757-5b0eb73cc626",
   "metadata": {},
   "outputs": [],
   "source": [
    "In [15]: s6['d']\n",
    "Out[15]: 4"
   ]
  },
  {
   "cell_type": "code",
   "execution_count": 51,
   "id": "d89cb422-2415-4e1c-b3f8-c605fffda7af",
   "metadata": {},
   "outputs": [
    {
     "data": {
      "text/plain": [
       "a    1\n",
       "b    2\n",
       "dtype: int64"
      ]
     },
     "execution_count": 51,
     "metadata": {},
     "output_type": "execute_result"
    }
   ],
   "source": [
    "In [16]: s6[:2]"
   ]
  },
  {
   "cell_type": "code",
   "execution_count": 49,
   "id": "83b08440-eebf-483d-b47d-389043b34d2f",
   "metadata": {},
   "outputs": [
    {
     "data": {
      "text/plain": [
       "a    1\n",
       "b    2\n",
       "c    3\n",
       "dtype: int64"
      ]
     },
     "execution_count": 49,
     "metadata": {},
     "output_type": "execute_result"
    }
   ],
   "source": [
    "In [17]: s6[s6 <= 3]"
   ]
  },
  {
   "cell_type": "code",
   "execution_count": 53,
   "id": "058c4643-1886-4646-9589-89baeeaff404",
   "metadata": {},
   "outputs": [
    {
     "data": {
      "text/plain": [
       "a    11\n",
       "b    22\n",
       "c    33\n",
       "d    44\n",
       "e    55\n",
       "dtype: int64"
      ]
     },
     "execution_count": 53,
     "metadata": {},
     "output_type": "execute_result"
    }
   ],
   "source": [
    "In [18]: s7 = pd.Series([10, 20, 30, 40, 50], ['a', 'b', 'c', 'd', 'e'])\n",
    "In [19]: s6 + s7"
   ]
  },
  {
   "cell_type": "code",
   "execution_count": 55,
   "id": "ba6ce6fa-0a8f-4e80-b8e3-414d83422523",
   "metadata": {},
   "outputs": [
    {
     "data": {
      "text/plain": [
       "a     3\n",
       "b     6\n",
       "c     9\n",
       "d    12\n",
       "e    15\n",
       "dtype: int64"
      ]
     },
     "execution_count": 55,
     "metadata": {},
     "output_type": "execute_result"
    }
   ],
   "source": [
    "In [20]: s6 * 3"
   ]
  },
  {
   "cell_type": "code",
   "execution_count": 57,
   "id": "a0a2fcae-8a13-47a2-8c5b-b4cb0658d04e",
   "metadata": {},
   "outputs": [
    {
     "name": "stdout",
     "output_type": "stream",
     "text": [
      "10\n",
      "30\n",
      "50\n"
     ]
    }
   ],
   "source": [
    "import pandas as pd\n",
    "# Создадим Series с пользовательскими индексами\n",
    "s = pd.Series([10, 20, 30, 40, 50], index=['a', 'b', 'c', 'd', 'e'])\n",
    "# Доступ к элементам по порядковому номеру\n",
    "print(s.iloc[0]) # Первый элемент (10)\n",
    "print(s.iloc[2]) # Третий элемент (30)\n",
    "print(s.iloc[-1]) # Последний элемент (50)"
   ]
  },
  {
   "cell_type": "code",
   "execution_count": 59,
   "id": "0ad7e4de-9c33-4a02-ac2e-a723501cd6ca",
   "metadata": {},
   "outputs": [
    {
     "name": "stdout",
     "output_type": "stream",
     "text": [
      "10\n",
      "30\n",
      "50\n"
     ]
    }
   ],
   "source": [
    "# Доступ к элементам по метке индекса\n",
    "print(s.loc['a']) # Первый элемент (10)\n",
    "print(s.loc['c']) # Третий элемент (30)\n",
    "print(s.loc['e']) # Последний элемент (50)"
   ]
  },
  {
   "cell_type": "code",
   "execution_count": 67,
   "id": "d145b059-c726-424c-86f4-975ee353ab7e",
   "metadata": {},
   "outputs": [
    {
     "name": "stdout",
     "output_type": "stream",
     "text": [
      "b    20\n",
      "c    30\n",
      "dtype: int64\n",
      "b    20\n",
      "c    30\n",
      "d    40\n",
      "dtype: int64\n"
     ]
    }
   ],
   "source": [
    "# Срез с использованием iloc (позиционный индекс, невключительный stop)\n",
    "print(s.iloc[1:3]) # Выведет элементы с индексами 1 и 2 (20, 30)\n",
    "# Срез с использованием loc (меточная индексация, включительный stop)\n",
    "print(s.loc['b':'d']) # Выведет элементы с индексами 'b', 'c' и 'd'(20, 30, 40)"
   ]
  },
  {
   "cell_type": "code",
   "execution_count": 69,
   "id": "f2bbc2c6-af2f-45df-8464-2b2f47426af7",
   "metadata": {},
   "outputs": [
    {
     "name": "stdout",
     "output_type": "stream",
     "text": [
      "b    25\n",
      "d    30\n",
      "e    15\n",
      "dtype: int64\n"
     ]
    }
   ],
   "source": [
    "import pandas as pd\n",
    "# Создаём Series с числовыми значениями\n",
    "s = pd.Series([10, 25, 8, 30, 15], index=['a', 'b', 'c', 'd', 'e'])\n",
    "# Фильтруем значения больше 10\n",
    "filtered_s = s[s > 10]\n",
    "print(filtered_s)"
   ]
  },
  {
   "cell_type": "code",
   "execution_count": 71,
   "id": "11e4fa35-e572-495b-9558-6bc2404f21bd",
   "metadata": {},
   "outputs": [
    {
     "name": "stdout",
     "output_type": "stream",
     "text": [
      "a    False\n",
      "b     True\n",
      "c    False\n",
      "d     True\n",
      "e     True\n",
      "dtype: bool\n"
     ]
    }
   ],
   "source": [
    "print(s > 10)"
   ]
  },
  {
   "cell_type": "code",
   "execution_count": 73,
   "id": "5d0397f4-d4a3-43f7-a1ce-b18928a51f34",
   "metadata": {},
   "outputs": [
    {
     "name": "stdout",
     "output_type": "stream",
     "text": [
      "a    10\n",
      "b    25\n",
      "d    30\n",
      "e    15\n",
      "dtype: int64\n"
     ]
    }
   ],
   "source": [
    "# Фильтрация значений в диапазоне от 10 до 30\n",
    "filtered_s = s[(s >= 10) & (s <= 30)]\n",
    "print(filtered_s)"
   ]
  },
  {
   "cell_type": "code",
   "execution_count": 75,
   "id": "bac543ee-324b-4747-97d5-9d778006a856",
   "metadata": {},
   "outputs": [
    {
     "name": "stdout",
     "output_type": "stream",
     "text": [
      "b    25\n",
      "d    30\n",
      "dtype: int64\n"
     ]
    }
   ],
   "source": [
    "# Выбираем только элементы, у которых индекс 'b' или 'd'\n",
    "filtered_s = s[s.index.isin(['b', 'd'])]\n",
    "print(filtered_s)"
   ]
  },
  {
   "cell_type": "code",
   "execution_count": 77,
   "id": "34fbb4fe-41c3-46a8-82ae-b3f60bcb93ab",
   "metadata": {},
   "outputs": [
    {
     "name": "stdout",
     "output_type": "stream",
     "text": [
      "a    10.0\n",
      "c     8.0\n",
      "d    30.0\n",
      "dtype: float64\n"
     ]
    }
   ],
   "source": [
    "s_with_nan = pd.Series([10, None, 8, 30, None], index=['a', 'b', 'c', 'd', 'e'])\n",
    "# Фильтрация только непустых значений\n",
    "filtered_s = s_with_nan[s_with_nan.notnull()]\n",
    "print(filtered_s)"
   ]
  },
  {
   "cell_type": "code",
   "execution_count": 79,
   "id": "199ed3a9-760d-4bcf-9841-50fa31cdd9e3",
   "metadata": {},
   "outputs": [
    {
     "name": "stdout",
     "output_type": "stream",
     "text": [
      "a    10\n",
      "b    25\n",
      "c    30\n",
      "d    40\n",
      "dtype: int64\n"
     ]
    }
   ],
   "source": [
    "import pandas as pd\n",
    "# Создаём Series\n",
    "s = pd.Series([10, 20, 30, 40], index=['a', 'b', 'c', 'd'])\n",
    "# Изменяем значение элемента с индексом 'b'\n",
    "s.loc['b'] = 25\n",
    "print(s)"
   ]
  },
  {
   "cell_type": "code",
   "execution_count": 81,
   "id": "f11f5feb-1b41-4db2-9f17-85e81d9c8e78",
   "metadata": {},
   "outputs": [
    {
     "name": "stdout",
     "output_type": "stream",
     "text": [
      "a    10\n",
      "b    50\n",
      "c    30\n",
      "d    40\n",
      "dtype: int64\n"
     ]
    }
   ],
   "source": [
    "# Изменяем второй элемент (позиция 1)\n",
    "s.iloc[1] = 50\n",
    "print(s)"
   ]
  },
  {
   "cell_type": "code",
   "execution_count": 83,
   "id": "f078e60f-89f6-4c0d-9173-3a3574cbcbd5",
   "metadata": {},
   "outputs": [
    {
     "name": "stdout",
     "output_type": "stream",
     "text": [
      "a    10\n",
      "b    60\n",
      "c    30\n",
      "d    50\n",
      "dtype: int64\n"
     ]
    }
   ],
   "source": [
    "# Увеличиваем все значения больше 30 на 10\n",
    "s[s > 30] += 10\n",
    "print(s)"
   ]
  },
  {
   "cell_type": "code",
   "execution_count": 85,
   "id": "0e41952d-fa5b-48f3-adea-be038dd6f28f",
   "metadata": {},
   "outputs": [
    {
     "name": "stdout",
     "output_type": "stream",
     "text": [
      "a    100\n",
      "b     60\n",
      "c    200\n",
      "d     50\n",
      "dtype: int64\n"
     ]
    }
   ],
   "source": [
    "# Изменяем значения элементов с индексами 'a' и 'c'\n",
    "s.loc[['a', 'c']] = [100, 200]\n",
    "print(s)"
   ]
  },
  {
   "cell_type": "code",
   "execution_count": 87,
   "id": "5d92cb41-35f5-4774-91d1-4469a9d8f829",
   "metadata": {},
   "outputs": [
    {
     "name": "stdout",
     "output_type": "stream",
     "text": [
      "a    200\n",
      "b    120\n",
      "c    400\n",
      "d    100\n",
      "dtype: int64\n"
     ]
    }
   ],
   "source": [
    "# Умножаем все элементы на 2\n",
    "s = s.apply(lambda x: x * 2)\n",
    "print(s)"
   ]
  },
  {
   "cell_type": "code",
   "execution_count": 91,
   "id": "690c33a6-f835-4a17-992e-ae93cedf71e9",
   "metadata": {},
   "outputs": [
    {
     "name": "stdout",
     "output_type": "stream",
     "text": [
      "a    10.0\n",
      "b     0.0\n",
      "c    30.0\n",
      "d     0.0\n",
      "dtype: float64\n"
     ]
    }
   ],
   "source": [
    "s_with_nan = pd.Series([10, None, 30, None], index=['a', 'b', 'c', 'd'])\n",
    "# Заполняем пропущенные значения числом 0\n",
    "s_filled = s_with_nan.fillna(0)\n",
    "print(s_filled)"
   ]
  },
  {
   "cell_type": "code",
   "execution_count": 97,
   "id": "a864c1b0-16a8-474f-98d2-ddde2c6c7789",
   "metadata": {},
   "outputs": [
    {
     "name": "stdout",
     "output_type": "stream",
     "text": [
      "a    10\n",
      "b    20\n",
      "c    30\n",
      "dtype: int64\n"
     ]
    }
   ],
   "source": [
    "import pandas as pd\n",
    "# Создаём Series\n",
    "s = pd.Series([10, 20, 30, 40, 50, 60, 70], index=['a', 'b', 'c', 'd', 'e', 'f', 'g'])\n",
    "# Вывод первых 3 элементов\n",
    "print(s.head(3))"
   ]
  },
  {
   "cell_type": "code",
   "execution_count": 99,
   "id": "d21db64f-d003-433f-9be7-8dfcc0c7e177",
   "metadata": {},
   "outputs": [
    {
     "name": "stdout",
     "output_type": "stream",
     "text": [
      "a    10\n",
      "b    20\n",
      "c    30\n",
      "d    40\n",
      "e    50\n",
      "dtype: int64\n"
     ]
    }
   ],
   "source": [
    "print(s.head())"
   ]
  },
  {
   "cell_type": "code",
   "execution_count": 101,
   "id": "f4fc1277-6062-4373-802e-4b8901e92231",
   "metadata": {},
   "outputs": [
    {
     "name": "stdout",
     "output_type": "stream",
     "text": [
      "e    50\n",
      "f    60\n",
      "g    70\n",
      "dtype: int64\n"
     ]
    }
   ],
   "source": [
    "# Вывод последних 3 элементов\n",
    "print(s.tail(3))"
   ]
  },
  {
   "cell_type": "code",
   "execution_count": 103,
   "id": "2dc9483f-b92b-41b5-87a3-b4530d7ff113",
   "metadata": {},
   "outputs": [
    {
     "name": "stdout",
     "output_type": "stream",
     "text": [
      "c    30\n",
      "d    40\n",
      "e    50\n",
      "f    60\n",
      "g    70\n",
      "dtype: int64\n"
     ]
    }
   ],
   "source": [
    "print(s.tail())"
   ]
  },
  {
   "cell_type": "code",
   "execution_count": 105,
   "id": "3e839687-de1a-4850-b59f-ade354318358",
   "metadata": {},
   "outputs": [
    {
     "name": "stdout",
     "output_type": "stream",
     "text": [
      "Index(['a', 'b', 'c', 'd', 'e'], dtype='object')\n"
     ]
    }
   ],
   "source": [
    "import pandas as pd\n",
    "# Создаём Series с пользовательскими индексами\n",
    "s = pd.Series([10, 20, 30, 40, 50], index=['a', 'b', 'c', 'd', 'e'])\n",
    "# Получение индексов\n",
    "print(s.index)"
   ]
  },
  {
   "cell_type": "code",
   "execution_count": 107,
   "id": "500b49f6-f223-4c03-8c01-0f34ddbc2999",
   "metadata": {},
   "outputs": [
    {
     "name": "stdout",
     "output_type": "stream",
     "text": [
      "a\n",
      "e\n"
     ]
    }
   ],
   "source": [
    "print(s.index[0]) # Выведет 'a'\n",
    "print(s.index[-1]) # Выведет 'e'"
   ]
  },
  {
   "cell_type": "code",
   "execution_count": 109,
   "id": "a5703358-eea6-4802-a056-4233b247071b",
   "metadata": {},
   "outputs": [
    {
     "name": "stdout",
     "output_type": "stream",
     "text": [
      "True\n",
      "False\n"
     ]
    }
   ],
   "source": [
    "print('b' in s.index) # True\n",
    "print('z' in s.index) # False"
   ]
  },
  {
   "cell_type": "code",
   "execution_count": 111,
   "id": "d4aefe86-99b9-464e-91d7-06212d4a7250",
   "metadata": {},
   "outputs": [
    {
     "name": "stdout",
     "output_type": "stream",
     "text": [
      "[10 20 30 40 50]\n"
     ]
    }
   ],
   "source": [
    "# Получение значений\n",
    "print(s.values)"
   ]
  },
  {
   "cell_type": "code",
   "execution_count": 113,
   "id": "8f7c6148-bbaa-4431-aa9e-f912e1f48c58",
   "metadata": {},
   "outputs": [
    {
     "name": "stdout",
     "output_type": "stream",
     "text": [
      "10\n",
      "30.0\n"
     ]
    }
   ],
   "source": [
    "print(s.values[0]) # 10\n",
    "print(s.values.mean()) # Среднее значение (30.0)"
   ]
  },
  {
   "cell_type": "code",
   "execution_count": 115,
   "id": "02b4bb85-0766-48ee-8411-fd4afdba7edb",
   "metadata": {},
   "outputs": [
    {
     "name": "stdout",
     "output_type": "stream",
     "text": [
      "int64\n"
     ]
    }
   ],
   "source": [
    "import pandas as pd\n",
    "# Создаём Series с целочисленными значениями\n",
    "s = pd.Series([10, 20, 30, 40, 50])\n",
    "# Определяем тип данных\n",
    "print(s.dtype)"
   ]
  },
  {
   "cell_type": "code",
   "execution_count": 117,
   "id": "bdab2e60-31eb-4497-8dcd-4b401689f8c8",
   "metadata": {},
   "outputs": [
    {
     "name": "stdout",
     "output_type": "stream",
     "text": [
      "float64\n",
      "object\n",
      "bool\n"
     ]
    }
   ],
   "source": [
    "s1 = pd.Series([1.5, 2.3, 3.7]) # Числа с плавающей запятой\n",
    "s2 = pd.Series([\"apple\", \"banana\", \"cherry\"]) # Строки\n",
    "s3 = pd.Series([True, False, True]) # Булевы значения\n",
    "print(s1.dtype) # float64\n",
    "print(s2.dtype) # object (строки)\n",
    "print(s3.dtype) # bool"
   ]
  },
  {
   "cell_type": "code",
   "execution_count": 119,
   "id": "7082d9c8-664e-4656-899d-8ad05924364c",
   "metadata": {},
   "outputs": [
    {
     "name": "stdout",
     "output_type": "stream",
     "text": [
      "0    1\n",
      "1    2\n",
      "2    3\n",
      "dtype: int32\n",
      "int32\n"
     ]
    }
   ],
   "source": [
    "# Преобразуем числа с плавающей запятой в целые\n",
    "s1_int = s1.astype(int)\n",
    "print(s1_int)\n",
    "print(s1_int.dtype)"
   ]
  },
  {
   "cell_type": "code",
   "execution_count": 121,
   "id": "9edab22a-fe37-466f-8de5-4223237359f7",
   "metadata": {},
   "outputs": [
    {
     "name": "stdout",
     "output_type": "stream",
     "text": [
      "object\n"
     ]
    }
   ],
   "source": [
    "s4 = pd.Series([10, \"apple\", 3.14, True])\n",
    "print(s4.dtype) # object"
   ]
  },
  {
   "cell_type": "code",
   "execution_count": 125,
   "id": "da74aaed-4e3f-4f0b-8551-0e0638300651",
   "metadata": {},
   "outputs": [
    {
     "name": "stdout",
     "output_type": "stream",
     "text": [
      "0    False\n",
      "1     True\n",
      "2    False\n",
      "3     True\n",
      "4    False\n",
      "dtype: bool\n"
     ]
    }
   ],
   "source": [
    "import pandas as pd\n",
    "import numpy as np\n",
    "# Создаём Series с пропущенными значениями\n",
    "s = pd.Series([10, np.nan, 30, None, 50])\n",
    "# Проверяем наличие пропущенных значений\n",
    "print(s.isnull())"
   ]
  },
  {
   "cell_type": "code",
   "execution_count": 127,
   "id": "4af5dce1-91ff-4503-9083-736fb10808d5",
   "metadata": {},
   "outputs": [
    {
     "name": "stdout",
     "output_type": "stream",
     "text": [
      "0     True\n",
      "1    False\n",
      "2     True\n",
      "3    False\n",
      "4     True\n",
      "dtype: bool\n"
     ]
    }
   ],
   "source": [
    "print(s.notnull())"
   ]
  },
  {
   "cell_type": "code",
   "execution_count": 129,
   "id": "2807afef-c5e8-438b-837a-b6ba46e8faec",
   "metadata": {},
   "outputs": [
    {
     "name": "stdout",
     "output_type": "stream",
     "text": [
      "0    10.0\n",
      "2    30.0\n",
      "4    50.0\n",
      "dtype: float64\n"
     ]
    }
   ],
   "source": [
    "filtered_s = s[s.notnull()]\n",
    "print(filtered_s)"
   ]
  },
  {
   "cell_type": "code",
   "execution_count": 131,
   "id": "d3b88ae0-5d6d-4615-99bd-f8f0145abe9d",
   "metadata": {},
   "outputs": [
    {
     "name": "stdout",
     "output_type": "stream",
     "text": [
      "1   NaN\n",
      "3   NaN\n",
      "dtype: float64\n"
     ]
    }
   ],
   "source": [
    "missing_values = s[s.isnull()]\n",
    "print(missing_values)"
   ]
  },
  {
   "cell_type": "code",
   "execution_count": 133,
   "id": "24522b98-5847-42f9-adf2-b29324cb2850",
   "metadata": {},
   "outputs": [
    {
     "name": "stdout",
     "output_type": "stream",
     "text": [
      "0    10.0\n",
      "1     0.0\n",
      "2    30.0\n",
      "3     0.0\n",
      "4    50.0\n",
      "dtype: float64\n"
     ]
    }
   ],
   "source": [
    "import pandas as pd\n",
    "import numpy as np\n",
    "# Создаём Series с пропущенными значениями\n",
    "s = pd.Series([10, np.nan, 30, None, 50])\n",
    "# Заполняем пропущенные значения нулём\n",
    "s_filled = s.fillna(0)\n",
    "print(s_filled)"
   ]
  },
  {
   "cell_type": "code",
   "execution_count": 135,
   "id": "dbe7f199-8110-4370-8b86-67f1b0df5944",
   "metadata": {},
   "outputs": [
    {
     "name": "stdout",
     "output_type": "stream",
     "text": [
      "0    10.0\n",
      "1    30.0\n",
      "2    30.0\n",
      "3    30.0\n",
      "4    50.0\n",
      "dtype: float64\n"
     ]
    }
   ],
   "source": [
    "s_filled = s.fillna(s.mean())\n",
    "print(s_filled)"
   ]
  },
  {
   "cell_type": "code",
   "execution_count": 137,
   "id": "63b0fd69-b54b-47ca-a8ad-d935bca6bd0c",
   "metadata": {},
   "outputs": [
    {
     "name": "stdout",
     "output_type": "stream",
     "text": [
      "0    10.0\n",
      "2    30.0\n",
      "4    50.0\n",
      "dtype: float64\n"
     ]
    }
   ],
   "source": [
    "s_cleaned = s.dropna()\n",
    "print(s_cleaned)\n"
   ]
  },
  {
   "cell_type": "code",
   "execution_count": 139,
   "id": "9603202f-5fd6-4d2f-b474-80fad34eb913",
   "metadata": {},
   "outputs": [
    {
     "name": "stdout",
     "output_type": "stream",
     "text": [
      "0     20\n",
      "1     40\n",
      "2     60\n",
      "3     80\n",
      "4    100\n",
      "dtype: int64\n"
     ]
    }
   ],
   "source": [
    "import pandas as pd\n",
    "# Создаём Series\n",
    "s = pd.Series([10, 20, 30, 40, 50])\n",
    "# Умножаем все элементы на 2\n",
    "s_multiplied = s * 2\n",
    "print(s_multiplied)"
   ]
  },
  {
   "cell_type": "code",
   "execution_count": 141,
   "id": "8060c8a0-2dc4-4e13-ad7b-545a5298580a",
   "metadata": {},
   "outputs": [
    {
     "name": "stdout",
     "output_type": "stream",
     "text": [
      "a    11\n",
      "b    22\n",
      "c    33\n",
      "d    44\n",
      "e    55\n",
      "dtype: int64\n"
     ]
    }
   ],
   "source": [
    "s1 = pd.Series([1, 2, 3, 4, 5], index=['a', 'b', 'c', 'd', 'e'])\n",
    "s2 = pd.Series([10, 20, 30, 40, 50], index=['a', 'b', 'c', 'd', 'e'])\n",
    "# Поэлементное сложение двух Series\n",
    "s_sum = s1 + s2\n",
    "print(s_sum)"
   ]
  },
  {
   "cell_type": "code",
   "execution_count": 143,
   "id": "047c649e-5deb-4772-bd57-02de9922281f",
   "metadata": {},
   "outputs": [
    {
     "name": "stdout",
     "output_type": "stream",
     "text": [
      "a    101.0\n",
      "b    202.0\n",
      "c      NaN\n",
      "d      NaN\n",
      "e      NaN\n",
      "f      NaN\n",
      "dtype: float64\n"
     ]
    }
   ],
   "source": [
    "s3 = pd.Series([100, 200, 300], index=['a', 'b', 'f'])\n",
    "# Сложение Series с несовпадающими индексами\n",
    "s_result = s1 + s3\n",
    "print(s_result)"
   ]
  },
  {
   "cell_type": "code",
   "execution_count": 145,
   "id": "1e552933-57f3-4ba5-85a7-e42329e8102e",
   "metadata": {},
   "outputs": [
    {
     "name": "stdout",
     "output_type": "stream",
     "text": [
      "a    101.0\n",
      "b    202.0\n",
      "c      3.0\n",
      "d      4.0\n",
      "e      5.0\n",
      "f    300.0\n",
      "dtype: float64\n"
     ]
    }
   ],
   "source": [
    "# Заменяем NaN на 0 при сложении\n",
    "s_result = s1.add(s3, fill_value=0)\n",
    "print(s_result)"
   ]
  },
  {
   "cell_type": "code",
   "execution_count": 147,
   "id": "af3041c6-c18c-4feb-aa4a-e968040c4d20",
   "metadata": {},
   "outputs": [
    {
     "name": "stdout",
     "output_type": "stream",
     "text": [
      "0     1\n",
      "1     4\n",
      "2     9\n",
      "3    16\n",
      "4    25\n",
      "dtype: int64\n"
     ]
    }
   ],
   "source": [
    "import pandas as pd\n",
    "# Создаём Series\n",
    "s = pd.Series([1, 2, 3, 4, 5])\n",
    "# Возводим в квадрат каждый элемент\n",
    "s_squared = s.apply(lambda x: x ** 2)\n",
    "print(s_squared)"
   ]
  },
  {
   "cell_type": "code",
   "execution_count": 151,
   "id": "2d6c33aa-8988-47dc-878f-5c48517f833f",
   "metadata": {},
   "outputs": [
    {
     "name": "stdout",
     "output_type": "stream",
     "text": [
      "0    Value: 1\n",
      "1    Value: 2\n",
      "2    Value: 3\n",
      "3    Value: 4\n",
      "4    Value: 5\n",
      "dtype: object\n"
     ]
    }
   ],
   "source": [
    "def custom_function(x):\n",
    "    return f\"Value: {x}\"\n",
    "s_transformed = s.apply(custom_function)\n",
    "print(s_transformed)"
   ]
  },
  {
   "cell_type": "code",
   "execution_count": 153,
   "id": "829ed49e-d6c5-4d6e-9a6a-c349155a35ef",
   "metadata": {},
   "outputs": [
    {
     "name": "stdout",
     "output_type": "stream",
     "text": [
      "0    0.000000\n",
      "1    0.693147\n",
      "2    1.098612\n",
      "3    1.386294\n",
      "4    1.609438\n",
      "dtype: float64\n"
     ]
    }
   ],
   "source": [
    "import numpy as np\n",
    "# Применение функции np.log к каждому элементу\n",
    "s_log = s.apply(np.log)\n",
    "print(s_log)"
   ]
  },
  {
   "cell_type": "code",
   "execution_count": 155,
   "id": "96cd25ee-bb29-4b93-81f0-ae28e6c4f964",
   "metadata": {},
   "outputs": [
    {
     "name": "stdout",
     "output_type": "stream",
     "text": [
      "0     APPLE\n",
      "1    BANANA\n",
      "2    CHERRY\n",
      "dtype: object\n"
     ]
    }
   ],
   "source": [
    "s_text = pd.Series([\"apple\", \"banana\", \"cherry\"])\n",
    "# Преобразуем текст в верхний регистр\n",
    "s_upper = s_text.apply(str.upper)\n",
    "print(s_upper)"
   ]
  },
  {
   "cell_type": "code",
   "execution_count": 157,
   "id": "c9bedb98-8aac-44c2-91f6-8b294ae1f684",
   "metadata": {},
   "outputs": [
    {
     "name": "stdout",
     "output_type": "stream",
     "text": [
      "150\n"
     ]
    }
   ],
   "source": [
    "import pandas as pd\n",
    "s = pd.Series([10, 20, 30, 40, 50])\n",
    "# Вычисление суммы всех элементов\n",
    "print(s.sum())"
   ]
  },
  {
   "cell_type": "code",
   "execution_count": 159,
   "id": "9f246142-a6b5-4c5c-a074-d89380a3c649",
   "metadata": {},
   "outputs": [
    {
     "name": "stdout",
     "output_type": "stream",
     "text": [
      "120.0\n"
     ]
    }
   ],
   "source": [
    "s_with_nan = pd.Series([10, 20, None, 40, 50])\n",
    "print(s_with_nan.sum()) # 120 (None игнорируется)"
   ]
  },
  {
   "cell_type": "code",
   "execution_count": 161,
   "id": "41065236-56fd-4510-abc3-d9bdb9a1e2ce",
   "metadata": {},
   "outputs": [
    {
     "name": "stdout",
     "output_type": "stream",
     "text": [
      "30.0\n"
     ]
    }
   ],
   "source": [
    "print(s.mean()) # (10 + 20 + 30 + 40 + 50) / 5 = 30.0"
   ]
  },
  {
   "cell_type": "code",
   "execution_count": 163,
   "id": "58bb33be-4979-4f01-b1bc-1c3c11f555b1",
   "metadata": {},
   "outputs": [
    {
     "name": "stdout",
     "output_type": "stream",
     "text": [
      "30.0\n"
     ]
    }
   ],
   "source": [
    "print(s_with_nan.mean()) # (10 + 20 + 40 + 50) / 4 = 30.0"
   ]
  },
  {
   "cell_type": "code",
   "execution_count": 165,
   "id": "8074d230-7b1d-4c74-85d4-c72b828627bb",
   "metadata": {},
   "outputs": [
    {
     "name": "stdout",
     "output_type": "stream",
     "text": [
      "10\n",
      "50\n"
     ]
    }
   ],
   "source": [
    "print(s.min()) # 10\n",
    "print(s.max()) # 50"
   ]
  },
  {
   "cell_type": "code",
   "execution_count": 167,
   "id": "ddde3645-30f0-46f6-adef-3d1cb6c9ce8c",
   "metadata": {},
   "outputs": [
    {
     "name": "stdout",
     "output_type": "stream",
     "text": [
      "count     5.000000\n",
      "mean     30.000000\n",
      "std      15.811388\n",
      "min      10.000000\n",
      "25%      20.000000\n",
      "50%      30.000000\n",
      "75%      40.000000\n",
      "max      50.000000\n",
      "dtype: float64\n"
     ]
    }
   ],
   "source": [
    "print(s.describe())"
   ]
  },
  {
   "cell_type": "code",
   "execution_count": 169,
   "id": "4e1414e4-e3bc-4125-81b8-35c62973a10f",
   "metadata": {},
   "outputs": [
    {
     "name": "stdout",
     "output_type": "stream",
     "text": [
      "count         5\n",
      "unique        3\n",
      "top       apple\n",
      "freq          2\n",
      "dtype: object\n"
     ]
    }
   ],
   "source": [
    "s_text = pd.Series([\"apple\", \"banana\", \"apple\", \"cherry\", \"banana\"])\n",
    "print(s_text.describe())"
   ]
  },
  {
   "cell_type": "code",
   "execution_count": 171,
   "id": "d2d30da9-5ee9-4155-9ff9-f79bd4f3a239",
   "metadata": {},
   "outputs": [
    {
     "name": "stdout",
     "output_type": "stream",
     "text": [
      "0    0.000000\n",
      "1    0.693147\n",
      "2    1.098612\n",
      "3    1.386294\n",
      "4    1.609438\n",
      "dtype: float64\n"
     ]
    }
   ],
   "source": [
    "import pandas as pd\n",
    "import numpy as np\n",
    "# Создаём Series\n",
    "s = pd.Series([1, 2, 3, 4, 5])\n",
    "# Применяем натуральный логарифм\n",
    "s_log = np.log(s)\n",
    "print(s_log)"
   ]
  },
  {
   "cell_type": "code",
   "execution_count": 173,
   "id": "ec4115e3-d1a6-4ec3-a490-2e0288b79575",
   "metadata": {},
   "outputs": [
    {
     "name": "stdout",
     "output_type": "stream",
     "text": [
      "0      2.718282\n",
      "1      7.389056\n",
      "2     20.085537\n",
      "3     54.598150\n",
      "4    148.413159\n",
      "dtype: float64\n"
     ]
    }
   ],
   "source": [
    "s_exp = np.exp(s)\n",
    "print(s_exp)"
   ]
  },
  {
   "cell_type": "code",
   "execution_count": 175,
   "id": "71ced68e-b181-4895-a8c8-63c1f24b164c",
   "metadata": {},
   "outputs": [
    {
     "name": "stdout",
     "output_type": "stream",
     "text": [
      "0    1.000000\n",
      "1    1.414214\n",
      "2    1.732051\n",
      "3    2.000000\n",
      "4    2.236068\n",
      "dtype: float64\n"
     ]
    }
   ],
   "source": [
    "s_sqrt = np.sqrt(s)\n",
    "print(s_sqrt)"
   ]
  },
  {
   "cell_type": "code",
   "execution_count": 177,
   "id": "d6fda5b7-7955-46ea-995f-b1e69411f453",
   "metadata": {},
   "outputs": [
    {
     "name": "stdout",
     "output_type": "stream",
     "text": [
      "0    0.841471\n",
      "1    0.909297\n",
      "2    0.141120\n",
      "3   -0.756802\n",
      "4   -0.958924\n",
      "dtype: float64\n",
      "0    0.540302\n",
      "1   -0.416147\n",
      "2   -0.989992\n",
      "3   -0.653644\n",
      "4    0.283662\n",
      "dtype: float64\n",
      "0    1\n",
      "1    2\n",
      "2    3\n",
      "3    4\n",
      "4    5\n",
      "dtype: int64\n"
     ]
    }
   ],
   "source": [
    "print(np.sin(s)) # Синус каждого элемента\n",
    "print(np.cos(s)) # Косинус каждого элемента\n",
    "print(np.abs(s)) # Модуль значений"
   ]
  },
  {
   "cell_type": "code",
   "execution_count": 179,
   "id": "77091e3a-c119-4b35-b891-6fe60bdc3795",
   "metadata": {},
   "outputs": [
    {
     "name": "stdout",
     "output_type": "stream",
     "text": [
      "0    1.0\n",
      "1    NaN\n",
      "2    2.0\n",
      "3    3.0\n",
      "dtype: float64\n"
     ]
    }
   ],
   "source": [
    "s_with_nan = pd.Series([1, np.nan, 4, 9])\n",
    "# Применяем квадратный корень\n",
    "print(np.sqrt(s_with_nan))"
   ]
  },
  {
   "cell_type": "code",
   "execution_count": null,
   "id": "7a39dc74-c634-4fd1-84c0-0922d7e7cd55",
   "metadata": {},
   "outputs": [],
   "source": []
  }
 ],
 "metadata": {
  "kernelspec": {
   "display_name": "Python [conda env:base] *",
   "language": "python",
   "name": "conda-base-py"
  },
  "language_info": {
   "codemirror_mode": {
    "name": "ipython",
    "version": 3
   },
   "file_extension": ".py",
   "mimetype": "text/x-python",
   "name": "python",
   "nbconvert_exporter": "python",
   "pygments_lexer": "ipython3",
   "version": "3.12.7"
  }
 },
 "nbformat": 4,
 "nbformat_minor": 5
}
